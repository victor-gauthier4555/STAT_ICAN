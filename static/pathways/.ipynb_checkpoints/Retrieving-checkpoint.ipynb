{
 "cells": [
  {
   "cell_type": "markdown",
   "id": "dba4627d-ce7e-44f8-b19d-0c408daeb83e",
   "metadata": {},
   "source": [
    "## RETRIEVING KEGG ID AND IDENTIFY PATHWAYS"
   ]
  },
  {
   "cell_type": "code",
   "execution_count": 1,
   "id": "bcef6368-b9fc-4a7c-a4bd-023c3d12bef3",
   "metadata": {},
   "outputs": [],
   "source": [
    "import pandas as pd\n",
    "import os \n",
    "import numpy as np\n",
    "from scipy.stats import fisher_exact"
   ]
  },
  {
   "cell_type": "code",
   "execution_count": 2,
   "id": "361f7bcb-7b8b-4f11-bd6e-aad33a16b67d",
   "metadata": {},
   "outputs": [
    {
     "data": {
      "text/html": [
       "<div>\n",
       "<style scoped>\n",
       "    .dataframe tbody tr th:only-of-type {\n",
       "        vertical-align: middle;\n",
       "    }\n",
       "\n",
       "    .dataframe tbody tr th {\n",
       "        vertical-align: top;\n",
       "    }\n",
       "\n",
       "    .dataframe thead th {\n",
       "        text-align: right;\n",
       "    }\n",
       "</style>\n",
       "<table border=\"1\" class=\"dataframe\">\n",
       "  <thead>\n",
       "    <tr style=\"text-align: right;\">\n",
       "      <th></th>\n",
       "      <th>Timepoints</th>\n",
       "    </tr>\n",
       "  </thead>\n",
       "  <tbody>\n",
       "    <tr>\n",
       "      <th>0</th>\n",
       "      <td>Pyruvate</td>\n",
       "    </tr>\n",
       "    <tr>\n",
       "      <th>1</th>\n",
       "      <td>Alanine</td>\n",
       "    </tr>\n",
       "    <tr>\n",
       "      <th>2</th>\n",
       "      <td>G.aminobutyricacid.Isomers</td>\n",
       "    </tr>\n",
       "    <tr>\n",
       "      <th>3</th>\n",
       "      <td>Choline</td>\n",
       "    </tr>\n",
       "    <tr>\n",
       "      <th>4</th>\n",
       "      <td>Serine</td>\n",
       "    </tr>\n",
       "  </tbody>\n",
       "</table>\n",
       "</div>"
      ],
      "text/plain": [
       "                   Timepoints\n",
       "0                    Pyruvate\n",
       "1                     Alanine\n",
       "2  G.aminobutyricacid.Isomers\n",
       "3                     Choline\n",
       "4                      Serine"
      ]
     },
     "execution_count": 2,
     "metadata": {},
     "output_type": "execute_result"
    }
   ],
   "source": [
    "#Opening the data\n",
    "\n",
    "FARID_data = pd.read_csv(\"AnnotatedMetabolites.csv\", sep =\";\", encoding='utf-8')\n",
    "metabolome = pd.read_csv(\"metabolome.csv\", sep =\";\", encoding='utf-8', header = None)\n",
    "KEGG_data =  pd.read_csv(\"MAIN Pathways_Homo sapiens_KEGG.csv\", sep =\";\", encoding='utf-8')\n",
    "\n",
    "#Opening our test data\n",
    "query_data =  pd.read_csv(\"Exemple_ligne_2.csv\", sep = ';')\n",
    "data = pd.read_csv(\"SIGNIFICANTS_1.csv\", sep = ';') ; data"
   ]
  },
  {
   "cell_type": "code",
   "execution_count": 4,
   "id": "4f8d05bc-c2ea-4e5a-a2ca-0a83292ab04e",
   "metadata": {},
   "outputs": [
    {
     "name": "stdout",
     "output_type": "stream",
     "text": [
      "['C00022', 'C00041', 'C00114', 'C00065']\n"
     ]
    }
   ],
   "source": [
    "for k in range(0, len(data.columns))  :\n",
    "    L = []\n",
    "    #First step : retrieve the KEGG ID of the query list of metabolites\n",
    "    for metabolite in data.iloc[:,k] :\n",
    "        for i in range(0, len( FARID_data.iloc[:,0])) : \n",
    "            if metabolite == FARID_data.iloc[i,0] or metabolite == FARID_data.iloc[i,1] :\n",
    "                L.append(FARID_data.iloc[i,2])\n",
    "                \n",
    "    #Now we do have the KEGG ID's. Let's retrieve the pathways !\n",
    "    current_path = \"\"\n",
    "\n",
    "    M = []\n",
    "\n",
    "    for j in range(0, len( KEGG_data[\"Pathways\"])) :\n",
    "        if KEGG_data.iloc[j,0] != current_path :\n",
    "\n",
    "            if len(M) > 1 : \n",
    "                ligne = f\"{M[0]};{count/count_data * 100};{count};{','.join(M[1:len(M)])};{count_data}\\n\"\n",
    "                #print(ligne)\n",
    "        \n",
    "            current_path = KEGG_data.iloc[j,0]\n",
    "\n",
    "            count_data = 1\n",
    "            count = 0\n",
    "            M = [current_path]\n",
    "            #print(current_path)\n",
    "            for element in L :\n",
    "                if KEGG_data.iloc[j,2] == element :\n",
    "                    M.append(KEGG_data.iloc[j,2])\n",
    "                    count += 1\n",
    "        else :\n",
    "            count_data += 1\n",
    "            for element in L :\n",
    "                if KEGG_data.iloc[j,2] == element :\n",
    "                    M.append(KEGG_data.iloc[j,1])\n",
    "                    count += 1\n",
    "                    #print(M)\n",
    "                    #print(count)\n",
    "    \n",
    "print(L)\n",
    "        \n",
    "        \n",
    "                    \n",
    "                \n",
    "                \n",
    "\n",
    "\n",
    "        "
   ]
  },
  {
   "cell_type": "markdown",
   "id": "4382d2a2-aa4a-447f-bf6b-6ab110172b75",
   "metadata": {},
   "source": [
    "### RETRIEVING INFORMATION FOR FISHER EXACT TEST DATA"
   ]
  },
  {
   "cell_type": "code",
   "execution_count": 55,
   "id": "3606937f-8707-40cd-adde-fff9fc293788",
   "metadata": {},
   "outputs": [],
   "source": [
    "for k in range(0, len(data.columns))  :\n",
    "    P = []\n",
    "    #First step : retrieve the KEGG ID of the query list of metabolites\n",
    "    for metabolite in data.iloc[:,k] :\n",
    "        for i in range(0, len( FARID_data.iloc[:,0])) : \n",
    "            if metabolite == FARID_data.iloc[i,0] or metabolite == FARID_data.iloc[i,1] :\n",
    "                P.append(FARID_data.iloc[i,2])"
   ]
  },
  {
   "cell_type": "code",
   "execution_count": 63,
   "id": "93a1006c-ebaa-48ae-80d7-d536139d5071",
   "metadata": {},
   "outputs": [],
   "source": [
    "non_significant = []\n",
    "\n",
    "index_metabo = [i for i in range(5,16)]\n",
    "for total_met in  query_data.columns[index_metabo] :\n",
    "    for j in range(0, len( FARID_data.iloc[:,0])) : \n",
    "        if total_met == FARID_data.iloc[j,0] or total_met == FARID_data.iloc[j,1] :\n",
    "                non_significant.append(FARID_data.iloc[j,2])\n",
    "\n",
    "\n",
    "for total_met in non_significant :\n",
    "    for metabolite in P :\n",
    "        if metabolite == total_met :\n",
    "            non_significant.remove(total_met)\n",
    "            \n",
    "        \n",
    "        \n",
    "\n",
    "\n",
    "        "
   ]
  },
  {
   "cell_type": "code",
   "execution_count": 124,
   "id": "56eff62b-0539-4393-9fc3-068715d39b08",
   "metadata": {},
   "outputs": [
    {
     "name": "stdout",
     "output_type": "stream",
     "text": [
      "Alanine, aspartate and glutamate metabolism - Homo sapiens (human) : 2/14\n",
      "0.006054684801137614\n",
      "Aminoacyl-tRNA biosynthesis - Homo sapiens (human) : 2/18\n",
      "0.010047163945114209\n",
      "Arginine and proline metabolism - Homo sapiens (human) : 1/16\n",
      "0.14536139150894709\n",
      "Biosynthesis of amino acids - Homo sapiens (human) : 2/33\n",
      "0.032985685433198346\n",
      "Carbon metabolism - Homo sapiens (human) : 2/26\n",
      "0.020784577157551064\n",
      "Citrate cycle (TCA cycle) - Homo sapiens (human) : 1/8\n",
      "0.07482030976741759\n",
      "Cysteine and methionine metabolism - Homo sapiens (human) : 2/10\n",
      "0.0030333914759637674\n",
      "Glycerophospholipid metabolism - Homo sapiens (human) : 1/5\n",
      "0.047273206135901205\n",
      "Glycine, serine and threonine metabolism - Homo sapiens (human) : 3/12\n",
      "7.214681975658947e-05\n",
      "Glycolysis / Gluconeogenesis - Homo sapiens (human) : 1/10\n",
      "0.09285020305470579\n",
      "Glyoxylate and dicarboxylate metabolism - Homo sapiens (human) : 2/10\n",
      "0.0030333914759637674\n",
      "Metabolic pathways - Homo sapiens (human) : 4/187\n",
      "0.03972521704601102\n",
      "One carbon pool by folate - Homo sapiens (human) : 1/7\n",
      "0.0657052389276877\n",
      "Purine metabolism - Homo sapiens (human) : 1/31\n",
      "0.2666687216773706\n",
      "Pyruvate metabolism - Homo sapiens (human) : 1/12\n",
      "0.11061527938466408\n",
      "Selenocompound metabolism - Homo sapiens (human) : 1/1\n",
      "0.009592326139088728\n",
      "Sphingolipid metabolism - Homo sapiens (human) : 1/2\n",
      "0.0191154768492898\n",
      "Tyrosine metabolism - Homo sapiens (human) : 1/6\n",
      "0.05652298083361091\n"
     ]
    }
   ],
   "source": [
    "#First step : retrieve the KEGG ID of the query list of metabolites\n",
    "for k in range(0, len(data.columns))  :\n",
    "    L = []\n",
    "    for metabolite in data.iloc[:,k] :\n",
    "        for i in range(0, len( FARID_data.iloc[:,0])) : \n",
    "            if metabolite == FARID_data.iloc[i,0] or metabolite == FARID_data.iloc[i,1] :\n",
    "                L.append(FARID_data.iloc[i,2])\n",
    "\n",
    "\n",
    "\n",
    "#retrieving the ID of the non significant metabolites\n",
    "all = [met for met in metabolome.iloc[:,0]]\n",
    "\n",
    "#total of our metabolites of our experiment\n",
    "N = len(all)\n",
    "\n",
    "#List of the non significant metabolites in our metabolome\n",
    "non_significant = []\n",
    "for i in range(0,len(all)):\n",
    "    if all[i] not in L :\n",
    "        non_significant.append( all[i])\n",
    "                \n",
    "#Now we do have the KEGG ID's. Let's retrieve the pathways !\n",
    "current_path = \"\"\n",
    "\n",
    "#Not significant who are in the pathway\n",
    "P = []\n",
    "\n",
    "#Significant who are in the pathway\n",
    "M = []\n",
    "\n",
    "for j in range(0, len( KEGG_data[\"Pathways\"])) :\n",
    "    if KEGG_data.iloc[j,0] != current_path :\n",
    "\n",
    "        if len(M) > 1 : \n",
    "            #Preparation de la table de contingence pour le fisher exact test\n",
    "                \n",
    "            #x = count\n",
    "            m_x = count_0 - count\n",
    "            k_x = len(L) - count\n",
    "            N_m_k_x = N - count_0  -  k_x\n",
    "\n",
    "            print(f\"{current_path} : {count}/{count_0}\")\n",
    "\n",
    "            table = np.array([[count, m_x], [k_x, N_m_k_x]])\n",
    "            res = fisher_exact(table, alternative='greater')\n",
    "\n",
    "            print(res.pvalue)\n",
    "\n",
    "\n",
    "            #ligne = f\"{M[0]};{res.pvalue};{count}//{count_0};{','.join(M[1:len(M)])}\\n\"\n",
    "        \n",
    "        current_path = KEGG_data.iloc[j,0]\n",
    "\n",
    "        count_data = 1\n",
    "        count = 0\n",
    "        count_0 = 0\n",
    "        M = [current_path]\n",
    "        #print(current_path)\n",
    "        for element in L :\n",
    "            if KEGG_data.iloc[j,2] == element :\n",
    "                M.append(KEGG_data.iloc[j,2])\n",
    "                count += 1\n",
    "        for element in all :\n",
    "            if KEGG_data.iloc[j,2] == element :\n",
    "                count_0 += 1\n",
    "                \n",
    "    else :\n",
    "        count_data += 1\n",
    "        for element in L :\n",
    "            if KEGG_data.iloc[j,2] == element :\n",
    "                M.append(KEGG_data.iloc[j,1])\n",
    "                count += 1\n",
    "                #print(M)\n",
    "                #print(count)\n",
    "        for element in all :\n",
    "            if KEGG_data.iloc[j,2] == element :\n",
    "                count_0 += 1"
   ]
  },
  {
   "cell_type": "code",
   "execution_count": 122,
   "id": "7a734f53-124b-4ff3-8b55-e34c90297f14",
   "metadata": {},
   "outputs": [
    {
     "name": "stdout",
     "output_type": "stream",
     "text": [
      "C00022\n",
      "C00041\n",
      "C00114\n",
      "C00065\n"
     ]
    }
   ],
   "source": [
    "for e in L :\n",
    "    print (e)\n"
   ]
  },
  {
   "cell_type": "code",
   "execution_count": 129,
   "id": "091bbb98-bfcd-49c6-85f5-440342b3ca10",
   "metadata": {},
   "outputs": [
    {
     "data": {
      "text/plain": [
       "9.019302382960654e-05"
      ]
     },
     "execution_count": 129,
     "metadata": {},
     "output_type": "execute_result"
    }
   ],
   "source": [
    "table = np.array([[3, 9], [1,374]]) ; table\n",
    "res = fisher_exact(table, alternative='greater') ; res.pvalue"
   ]
  },
  {
   "cell_type": "markdown",
   "id": "87884cd7-3f82-4b39-9067-e4277473df3a",
   "metadata": {},
   "source": [
    "### RETRIEVING KEGG ID FOR A QUERY LIST OF METABOLITES"
   ]
  },
  {
   "cell_type": "code",
   "execution_count": 22,
   "id": "21235775-ead3-4c76-be5a-2012e0f52cd8",
   "metadata": {},
   "outputs": [
    {
     "data": {
      "text/html": [
       "<div>\n",
       "<style scoped>\n",
       "    .dataframe tbody tr th:only-of-type {\n",
       "        vertical-align: middle;\n",
       "    }\n",
       "\n",
       "    .dataframe tbody tr th {\n",
       "        vertical-align: top;\n",
       "    }\n",
       "\n",
       "    .dataframe thead th {\n",
       "        text-align: right;\n",
       "    }\n",
       "</style>\n",
       "<table border=\"1\" class=\"dataframe\">\n",
       "  <thead>\n",
       "    <tr style=\"text-align: right;\">\n",
       "      <th></th>\n",
       "      <th>0</th>\n",
       "    </tr>\n",
       "  </thead>\n",
       "  <tbody>\n",
       "    <tr>\n",
       "      <th>0</th>\n",
       "      <td>1-Methyluric acid_7-Methyluric acid_3-Methylur...</td>\n",
       "    </tr>\n",
       "    <tr>\n",
       "      <th>1</th>\n",
       "      <td>2_O_Methylcytidine_Isomers</td>\n",
       "    </tr>\n",
       "    <tr>\n",
       "      <th>2</th>\n",
       "      <td>4_Hydroxy_3_MethoxybenzylAlcohol</td>\n",
       "    </tr>\n",
       "    <tr>\n",
       "      <th>3</th>\n",
       "      <td>4_Hydroxy_3_MethoxybenzylAlcohol</td>\n",
       "    </tr>\n",
       "    <tr>\n",
       "      <th>4</th>\n",
       "      <td>8_AminocaprylicAcid</td>\n",
       "    </tr>\n",
       "    <tr>\n",
       "      <th>...</th>\n",
       "      <td>...</td>\n",
       "    </tr>\n",
       "    <tr>\n",
       "      <th>171</th>\n",
       "      <td>Urocanate</td>\n",
       "    </tr>\n",
       "    <tr>\n",
       "      <th>172</th>\n",
       "      <td>Alpha_Aminoadipate</td>\n",
       "    </tr>\n",
       "    <tr>\n",
       "      <th>173</th>\n",
       "      <td>Alpha_Aminoadipate</td>\n",
       "    </tr>\n",
       "    <tr>\n",
       "      <th>174</th>\n",
       "      <td>N Acetyl D Allo Isoleucine_N Acetyl L Leucine</td>\n",
       "    </tr>\n",
       "    <tr>\n",
       "      <th>175</th>\n",
       "      <td>N Acetyl D Allo Isoleucine_N Acetyl L Leucine</td>\n",
       "    </tr>\n",
       "  </tbody>\n",
       "</table>\n",
       "<p>176 rows × 1 columns</p>\n",
       "</div>"
      ],
      "text/plain": [
       "                                                     0\n",
       "0    1-Methyluric acid_7-Methyluric acid_3-Methylur...\n",
       "1                           2_O_Methylcytidine_Isomers\n",
       "2                     4_Hydroxy_3_MethoxybenzylAlcohol\n",
       "3                     4_Hydroxy_3_MethoxybenzylAlcohol\n",
       "4                                  8_AminocaprylicAcid\n",
       "..                                                 ...\n",
       "171                                          Urocanate\n",
       "172                                 Alpha_Aminoadipate\n",
       "173                                 Alpha_Aminoadipate\n",
       "174     N Acetyl D Allo Isoleucine_N Acetyl L Leucine \n",
       "175     N Acetyl D Allo Isoleucine_N Acetyl L Leucine \n",
       "\n",
       "[176 rows x 1 columns]"
      ]
     },
     "execution_count": 22,
     "metadata": {},
     "output_type": "execute_result"
    }
   ],
   "source": [
    "data = pd.read_csv(\"Query_list.csv\", sep = ';', encoding = 'latin1', header = None ) ; data"
   ]
  },
  {
   "cell_type": "code",
   "execution_count": 23,
   "id": "6ee56b61-fcab-4942-a12b-2c8b03a76b8a",
   "metadata": {},
   "outputs": [],
   "source": [
    "with open(\"return.csv\", \"w\", encoding = \"latin1\" ) as file :\n",
    "    for metabolite in data.iloc[:,0] :\n",
    "        a = None\n",
    "        for i in range(0, len( FARID_data.iloc[:,0])) :\n",
    "            if a = None : \n",
    "            if metabolite == FARID_data.iloc[i,0] or metabolite == FARID_data.iloc[i,1] :\n",
    "                a = {FARID_data.iloc[i,2] \n",
    "        if a != None :\n",
    "            file.write(f\"{metabolite};{a}\\n\")\n",
    "        else :\n",
    "            file.write(f\"{metabolite};NA\\n\")"
   ]
  },
  {
   "cell_type": "code",
   "execution_count": 24,
   "id": "dd063911-ad14-4e14-89d8-9aad4b37c904",
   "metadata": {},
   "outputs": [
    {
     "data": {
      "text/plain": [
       "0      1-Methyluric acid_7-Methyluric acid_3-Methylur...\n",
       "1                             2_O_Methylcytidine_Isomers\n",
       "2                       4_Hydroxy_3_MethoxybenzylAlcohol\n",
       "3                       4_Hydroxy_3_MethoxybenzylAlcohol\n",
       "4                                    8_AminocaprylicAcid\n",
       "                             ...                        \n",
       "171                                            Urocanate\n",
       "172                                   Alpha_Aminoadipate\n",
       "173                                   Alpha_Aminoadipate\n",
       "174       N Acetyl D Allo Isoleucine_N Acetyl L Leucine \n",
       "175       N Acetyl D Allo Isoleucine_N Acetyl L Leucine \n",
       "Name: 0, Length: 176, dtype: object"
      ]
     },
     "execution_count": 24,
     "metadata": {},
     "output_type": "execute_result"
    }
   ],
   "source": []
  }
 ],
 "metadata": {
  "kernelspec": {
   "display_name": "Python 3 (ipykernel)",
   "language": "python",
   "name": "python3"
  },
  "language_info": {
   "codemirror_mode": {
    "name": "ipython",
    "version": 3
   },
   "file_extension": ".py",
   "mimetype": "text/x-python",
   "name": "python",
   "nbconvert_exporter": "python",
   "pygments_lexer": "ipython3",
   "version": "3.11.7"
  }
 },
 "nbformat": 4,
 "nbformat_minor": 5
}
