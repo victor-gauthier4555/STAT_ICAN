{
 "cells": [
  {
   "cell_type": "markdown",
   "id": "111b4cea-82ad-4654-9fb6-841b1476cc93",
   "metadata": {},
   "source": [
    "## Creating a function that does statistical test on data, retrieve p value and write an html table"
   ]
  },
  {
   "cell_type": "code",
   "execution_count": 2,
   "id": "3f20556a-1b88-4d5d-bab1-119e2025e1f2",
   "metadata": {},
   "outputs": [],
   "source": [
    "import analysis\n",
    "import pandas as pd\n",
    "import scipy.stats as stats\n",
    "import warnings\n",
    "from scipy.stats import normaltest"
   ]
  },
  {
   "cell_type": "code",
   "execution_count": 3,
   "id": "0470dd1b-1457-413e-9066-62a18cff5b83",
   "metadata": {},
   "outputs": [],
   "source": [
    "data  = pd.read_csv(\"exemple_multivariate.csv\", sep = \";\")"
   ]
  },
  {
   "cell_type": "code",
   "execution_count": 4,
   "id": "48d0c0e3-5977-4173-8809-e1281ea4be57",
   "metadata": {},
   "outputs": [],
   "source": [
    "outcome_variable = 'Group' \n",
    "n = []\n",
    "for i in range(0, len(data.columns)) :\n",
    "    if data.columns[i] != outcome_variable and data.columns[i] != \"Sample.ID\" :\n",
    "        n.append(i)\n",
    "\n",
    "indexes = n "
   ]
  },
  {
   "cell_type": "code",
   "execution_count": 5,
   "id": "9bd67a92-7de1-458a-afdd-52249229b0b7",
   "metadata": {},
   "outputs": [
    {
     "name": "stdout",
     "output_type": "stream",
     "text": [
      "{'Controle': [11, 12, 20, 21, 22, 23, 24, 25, 26, 27, 28, 29, 30, 31, 32, 33, 34, 35], 'Malade': [0, 1, 2, 3, 4, 5, 6, 7, 8, 9, 10, 13, 14, 15, 16, 17, 18, 19]}\n"
     ]
    }
   ],
   "source": [
    "#dictionary of the index of each individual along factor inside the independant variable\n",
    "groups = data.groupby(data[outcome_variable]).groups\n",
    "print(groups)"
   ]
  },
  {
   "cell_type": "code",
   "execution_count": 7,
   "id": "de2d2eb1-2936-428e-b440-5172037b3499",
   "metadata": {},
   "outputs": [
    {
     "name": "stdout",
     "output_type": "stream",
     "text": [
      "SMOKE_FREQUENCY\n",
      "Status\n",
      "Diabety\n"
     ]
    }
   ],
   "source": [
    "L = []\n",
    "#dictionary of the index of each individual along factor inside the independant variable\n",
    "groups = data.groupby(data[outcome_variable]).groups\n",
    "for index in indexes :\n",
    "    #type of the variable, categorical or continuous\n",
    "    a = (data.iloc[:, index]).dtype\n",
    "    \n",
    "    \n",
    "    #check if the variable is continous\n",
    "    if a == 'float64' :\n",
    "        n = 0\n",
    "        \n",
    "        for key in groups :\n",
    "            d = data.loc[groups[key], data.columns[index]] ; \n",
    "            #check if the distribution is normal of not for each sample\n",
    "            with warnings.catch_warnings():\n",
    "                    warnings.simplefilter(\"ignore\")\n",
    "                    p = normaltest(d)\n",
    "                    if p[1] > 0.05 :\n",
    "                        n = n + 1\n",
    "                        \n",
    "        #if the distribution is normal\n",
    "        if n == 0 :\n",
    "            resultat = stats.ttest_ind(data.loc[groups[list(groups.keys())[0]], data.columns[index]], data.loc[groups[list(groups.keys())[1]], data.columns[index]])\n",
    "            L.append((data.columns[index],resultat.pvalue))\n",
    "        else :\n",
    "            resultat = stats.mannwhitneyu(data.loc[groups[list(groups.keys())[0]], data.columns[index]], data.loc[groups[list(groups.keys())[1]], data.columns[index]], alternative='two-sided')\n",
    "            L.append((data.columns[index],resultat.pvalue))\n",
    "            \n",
    "    #if the data is categorical\n",
    "    else :\n",
    "        contingency_table = pd.crosstab(data.iloc[:, index],data[outcome_variable])\n",
    "        resultat = stats.chi2_contingency(contingency_table)\n",
    "        L.append((data.columns[index],resultat.pvalue))\n",
    "\n",
    "        \n",
    "\n",
    "        \n",
    "\n",
    "\n",
    "        \n",
    "            "
   ]
  },
  {
   "cell_type": "code",
   "execution_count": 95,
   "id": "6cf7e4c7-5bfd-4459-811d-9ed2c5e483a4",
   "metadata": {},
   "outputs": [],
   "source": [
    "#function that will write a template with a table with the p values and all variables\n",
    "def write_template(liste) :\n",
    "    with open('./templates/table.html','w') as file :\n",
    "        file.write(\"\"\" <!doctype html>\n",
    "<html lang=\"fr\">\n",
    "\t<head>\n",
    "\t\t<meta charset=\"utf-8\">\n",
    "\t\t<title>STATICAN</title> \n",
    "        <link rel=\"stylesheet\" type=\"text/css\" href=\"{{ url_for('static', filename='css/table.css') }}\">\n",
    "\t\t<link rel=\"stylesheet\" href=\"https://fonts.googleapis.com/css?family=Audiowide\">\n",
    "        <script defer src=\"{{ url_for('static', filename='js/app.js') }}\"></script>\n",
    "        <script>\n",
    "            // JavaScript to show loading spinner when the page loads\n",
    "            $(document).ready(function(){\n",
    "                $('#loading-spinner').show();\n",
    "            });\n",
    "        </script>\n",
    "\t</head>\n",
    "    \n",
    "\t\n",
    "\t<body>\n",
    "        <div id=\"loading-spinner\" class=\"loader\"></div>\n",
    "        <section>\n",
    "            <div class = \"entete\">\n",
    "                <span class = \"txt\">STATICAN</span> \n",
    "        \t\t<span class = \"gradient\"></span>\n",
    "        \t\t<span class = \"dodge\"></span>\n",
    "            </div>\n",
    "            <main class = \"table\">\n",
    "                <table>\n",
    "                  <thead>\n",
    "                    <tr>\n",
    "                      <th scope=\"col\">Variable name </th>\n",
    "                      <th scope=\"col\">P-Value</th>\n",
    "                    </tr>\n",
    "                  </thead>\n",
    "                  <tbody class = \"table_body\">\n",
    "                      \"\"\")\n",
    "        for information in liste :\n",
    "\n",
    "            if information[1] < 0.05 :\n",
    "                file.write(f\"\"\"<tr class = \"significant>\n",
    "                              <th scope=\"row\">{information[0]}</th>\n",
    "                              <td scope=\"row\" >{round(information[1],3)}</td>\n",
    "                          </tr>\n",
    "                          \"\"\" )\n",
    "        file.write(\"\"\" </main> \n",
    "        </section>\n",
    "    </body>\n",
    "</html>\"\"\")\n",
    "        \n",
    "            else :  \n",
    "                file.write(f\"\"\"<tr>\n",
    "                                  <th>{information[0]}</th>\n",
    "                                  <td>{round(information[1],3)}</td>\n",
    "                              </tr>\n",
    "                              \"\"\" )\n",
    "            file.write(\"\"\" </main> \n",
    "            </section>\n",
    "        </body>\n",
    "    </html>\"\"\")\n",
    "\n",
    "    file.write(\"</section>\n",
    "\n",
    "        \n",
    "\n",
    "    </body>\n",
    "</html> \")\n",
    "    "
   ]
  },
  {
   "cell_type": "code",
   "execution_count": 96,
   "id": "a3e0ab21-9c4d-4909-8817-644af27a5c5d",
   "metadata": {},
   "outputs": [],
   "source": [
    "write_template(L)"
   ]
  },
  {
   "cell_type": "markdown",
   "id": "7de2cb4e-010b-4c0c-946b-65b1c99a9b79",
   "metadata": {},
   "source": [
    "### PERFORMING COLLINEARITY TEST FOR QUERY VARIABLES LIST"
   ]
  },
  {
   "cell_type": "markdown",
   "id": "697574b0-c891-4493-9f05-25de9230cb72",
   "metadata": {},
   "source": [
    "#### If there is collinearity, a table is written and highlight collinear variables. The user has to put a new list ( or still keep the original one if they want )"
   ]
  },
  {
   "cell_type": "code",
   "execution_count": null,
   "id": "0ef0472d-4c41-4267-ae06-6eab97f4bd2d",
   "metadata": {},
   "outputs": [],
   "source": []
  }
 ],
 "metadata": {
  "kernelspec": {
   "display_name": "Python 3 (ipykernel)",
   "language": "python",
   "name": "python3"
  },
  "language_info": {
   "codemirror_mode": {
    "name": "ipython",
    "version": 3
   },
   "file_extension": ".py",
   "mimetype": "text/x-python",
   "name": "python",
   "nbconvert_exporter": "python",
   "pygments_lexer": "ipython3",
   "version": "3.11.7"
  }
 },
 "nbformat": 4,
 "nbformat_minor": 5
}
